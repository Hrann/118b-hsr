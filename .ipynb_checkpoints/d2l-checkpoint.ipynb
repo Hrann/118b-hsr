{
 "cells": [
  {
   "cell_type": "code",
   "execution_count": 4,
   "id": "taken-contributor",
   "metadata": {},
   "outputs": [],
   "source": [
    "import numpy as np\n",
    "import torch\n",
    "from torch.utils import data\n",
    "import pandas as pd"
   ]
  },
  {
   "cell_type": "markdown",
   "id": "first-accessory",
   "metadata": {},
   "source": [
    "## Linear regression Pytorch NN"
   ]
  },
  {
   "cell_type": "markdown",
   "id": "painted-pride",
   "metadata": {
    "heading_collapsed": true
   },
   "source": [
    "### Pytorch NN"
   ]
  },
  {
   "cell_type": "code",
   "execution_count": 84,
   "id": "indoor-boxing",
   "metadata": {
    "hidden": true
   },
   "outputs": [],
   "source": [
    "from sklearn import datasets\n",
    "\n",
    "diabetes_X, diabetes_y = datasets.load_diabetes(return_X_y=True)"
   ]
  },
  {
   "cell_type": "code",
   "execution_count": 88,
   "id": "fiscal-workshop",
   "metadata": {
    "hidden": true
   },
   "outputs": [],
   "source": [
    "diabetes_y = diabetes_y.reshape(-1,1)"
   ]
  },
  {
   "cell_type": "code",
   "execution_count": 93,
   "id": "palestinian-milan",
   "metadata": {
    "hidden": true
   },
   "outputs": [],
   "source": [
    "from sklearn.preprocessing import StandardScaler,MinMaxScaler\n",
    "\n",
    "scaler = StandardScaler()\n",
    "diabetes_X = scaler.fit_transform(diabetes_X)\n",
    "diabetes_y = scaler.fit_transform(diabetes_y)"
   ]
  },
  {
   "cell_type": "code",
   "execution_count": 94,
   "id": "announced-expense",
   "metadata": {
    "hidden": true
   },
   "outputs": [],
   "source": [
    "def load_array(data_arrays, batch_size, is_train=True):  #@save\n",
    "    \"\"\"构造一个PyTorch数据迭代器。\"\"\"\n",
    "    dataset = data.TensorDataset(*data_arrays)\n",
    "    return data.DataLoader(dataset, batch_size, shuffle=is_train)"
   ]
  },
  {
   "cell_type": "code",
   "execution_count": 96,
   "id": "failing-implement",
   "metadata": {
    "hidden": true
   },
   "outputs": [],
   "source": [
    "# Define a train_loader iterator\n",
    "\n",
    "train = torch.Tensor(diabetes_X)\n",
    "target = torch.Tensor(diabetes_y)\n",
    "train_loader = load_array((train,target), 10)"
   ]
  },
  {
   "cell_type": "code",
   "execution_count": 97,
   "id": "corresponding-mason",
   "metadata": {
    "hidden": true
   },
   "outputs": [
    {
     "data": {
      "text/plain": [
       "[tensor([[-0.5742, -0.9385,  1.6823,  2.0764, -0.0619,  0.3806, -0.3706,  0.0696,\n",
       "          -0.6208,  0.7611],\n",
       "         [ 0.4950, -0.9385,  0.4134, -0.2640,  1.7605,  0.8151,  1.3322, -0.0545,\n",
       "           1.3886,  1.0223],\n",
       "         [-0.9560, -0.9385,  0.3227, -1.5669, -1.0455, -0.3634, -0.6028, -0.0545,\n",
       "          -2.1941, -1.5901],\n",
       "         [ 1.0296,  1.0655,  1.8636,  1.8351,  0.7481,  0.4530, -0.5254,  0.7213,\n",
       "           1.3886,  2.7640],\n",
       "         [ 0.0368, -0.9385, -1.4901, -0.4811, -0.0330, -0.0210,  0.5582, -0.8303,\n",
       "          -0.4733,  0.1515],\n",
       "         [ 0.1132,  1.0655,  0.7306, -0.0227,  3.2069,  4.1793, -1.2995,  3.8943,\n",
       "           0.3273,  1.5448],\n",
       "         [ 0.1132,  1.0655, -0.1758,  0.4598,  1.1531,  1.5393, -0.5254,  0.7213,\n",
       "           0.2639,  1.9802],\n",
       "         [ 0.9532,  1.0655, -0.1758, -0.6983, -0.1487,  0.0250, -0.8350,  0.7213,\n",
       "           0.6294,  0.5869],\n",
       "         [-0.9560,  1.0655, -0.5157,  1.2560,  0.1117,  0.3147, -1.1447,  1.4971,\n",
       "           0.8903,  0.3257],\n",
       "         [ 0.8769,  1.0655,  1.5010,  0.1703,  0.8059,  0.3345, -0.3706,  0.7213,\n",
       "           1.5434,  1.8061]]),\n",
       " tensor([[ 1.3618],\n",
       "         [ 1.4267],\n",
       "         [ 0.6346],\n",
       "         [ 2.0501],\n",
       "         [-1.3393],\n",
       "         [-0.8848],\n",
       "         [-0.6770],\n",
       "         [-0.2744],\n",
       "         [ 0.1411],\n",
       "         [ 1.8553]])]"
      ]
     },
     "execution_count": 97,
     "metadata": {},
     "output_type": "execute_result"
    }
   ],
   "source": [
    "next(iter(train_loader))"
   ]
  },
  {
   "cell_type": "code",
   "execution_count": 98,
   "id": "compressed-equilibrium",
   "metadata": {
    "hidden": true
   },
   "outputs": [],
   "source": [
    "from torch import nn\n",
    "\n",
    "net = nn.Sequential(nn.Linear(10, 1))"
   ]
  },
  {
   "cell_type": "code",
   "execution_count": 99,
   "id": "proper-samba",
   "metadata": {
    "hidden": true
   },
   "outputs": [
    {
     "data": {
      "text/plain": [
       "tensor([0.])"
      ]
     },
     "execution_count": 99,
     "metadata": {},
     "output_type": "execute_result"
    }
   ],
   "source": [
    "net[0].weight.data.normal_(0, 0.01)\n",
    "net[0].bias.data.fill_(0)"
   ]
  },
  {
   "cell_type": "code",
   "execution_count": 100,
   "id": "surprised-delta",
   "metadata": {
    "hidden": true
   },
   "outputs": [],
   "source": [
    "loss = nn.MSELoss()"
   ]
  },
  {
   "cell_type": "code",
   "execution_count": 109,
   "id": "specified-helen",
   "metadata": {
    "hidden": true
   },
   "outputs": [],
   "source": [
    "trainer = torch.optim.SGD(net.parameters(), lr=0.02)"
   ]
  },
  {
   "cell_type": "code",
   "execution_count": 111,
   "id": "opponent-jason",
   "metadata": {
    "hidden": true
   },
   "outputs": [],
   "source": [
    "num_epochs = 20\n",
    "for epoch in range(num_epochs):\n",
    "    for X, y in train_loader:\n",
    "        l = loss(net(X), y)\n",
    "        trainer.zero_grad()\n",
    "        l.backward()\n",
    "        trainer.step()"
   ]
  },
  {
   "cell_type": "code",
   "execution_count": 112,
   "id": "invalid-airport",
   "metadata": {
    "hidden": true
   },
   "outputs": [],
   "source": [
    "w = net[0].weight.data\n",
    "b = net[0].bias.data"
   ]
  },
  {
   "cell_type": "code",
   "execution_count": 113,
   "id": "forced-nudist",
   "metadata": {
    "hidden": true
   },
   "outputs": [
    {
     "data": {
      "text/plain": [
       "tensor([[ 0.0076, -0.1476,  0.3368,  0.2119, -0.4657,  0.3065,  0.0705,  0.1132,\n",
       "          0.4647,  0.0694]])"
      ]
     },
     "execution_count": 113,
     "metadata": {},
     "output_type": "execute_result"
    }
   ],
   "source": [
    "w"
   ]
  },
  {
   "cell_type": "code",
   "execution_count": 114,
   "id": "absent-savage",
   "metadata": {
    "hidden": true
   },
   "outputs": [
    {
     "data": {
      "text/plain": [
       "tensor([-0.0104])"
      ]
     },
     "execution_count": 114,
     "metadata": {},
     "output_type": "execute_result"
    }
   ],
   "source": [
    "b"
   ]
  },
  {
   "cell_type": "code",
   "execution_count": 120,
   "id": "stopped-jesus",
   "metadata": {
    "hidden": true
   },
   "outputs": [
    {
     "data": {
      "text/plain": [
       "tensor(0.4875, grad_fn=<MseLossBackward>)"
      ]
     },
     "execution_count": 120,
     "metadata": {},
     "output_type": "execute_result"
    }
   ],
   "source": [
    "loss(net(train), target)"
   ]
  },
  {
   "cell_type": "markdown",
   "id": "domestic-setup",
   "metadata": {
    "heading_collapsed": true
   },
   "source": [
    "### Sklearn"
   ]
  },
  {
   "cell_type": "code",
   "execution_count": 115,
   "id": "cooperative-portugal",
   "metadata": {
    "hidden": true
   },
   "outputs": [],
   "source": [
    "import numpy as np\n",
    "from sklearn import datasets, linear_model\n",
    "from sklearn.metrics import mean_squared_error, r2_score"
   ]
  },
  {
   "cell_type": "code",
   "execution_count": 116,
   "id": "included-resistance",
   "metadata": {
    "hidden": true
   },
   "outputs": [
    {
     "data": {
      "text/plain": [
       "LinearRegression()"
      ]
     },
     "execution_count": 116,
     "metadata": {},
     "output_type": "execute_result"
    }
   ],
   "source": [
    "regr = linear_model.LinearRegression()\n",
    "\n",
    "# Train the model using the training sets\n",
    "regr.fit(diabetes_X, diabetes_y)"
   ]
  },
  {
   "cell_type": "code",
   "execution_count": 117,
   "id": "selective-variance",
   "metadata": {
    "hidden": true
   },
   "outputs": [
    {
     "data": {
      "text/plain": [
       "array([[-0.00618437, -0.1481322 ,  0.32109626,  0.20037049, -0.48931879,\n",
       "         0.29447786,  0.06241353,  0.10936955,  0.46405256,  0.04177106]])"
      ]
     },
     "execution_count": 117,
     "metadata": {},
     "output_type": "execute_result"
    }
   ],
   "source": [
    "regr.coef_"
   ]
  },
  {
   "cell_type": "code",
   "execution_count": 118,
   "id": "exempt-jewel",
   "metadata": {
    "hidden": true
   },
   "outputs": [
    {
     "data": {
      "text/plain": [
       "array([-2.39677225e-16])"
      ]
     },
     "execution_count": 118,
     "metadata": {},
     "output_type": "execute_result"
    }
   ],
   "source": [
    "regr.intercept_"
   ]
  },
  {
   "cell_type": "code",
   "execution_count": 119,
   "id": "deadly-voluntary",
   "metadata": {
    "hidden": true
   },
   "outputs": [
    {
     "data": {
      "text/plain": [
       "0.5177494254132934"
      ]
     },
     "execution_count": 119,
     "metadata": {},
     "output_type": "execute_result"
    }
   ],
   "source": [
    "regr.score(diabetes_X,diabetes_y)"
   ]
  },
  {
   "cell_type": "code",
   "execution_count": null,
   "id": "genuine-estonia",
   "metadata": {
    "hidden": true
   },
   "outputs": [],
   "source": []
  }
 ],
 "metadata": {
  "kernelspec": {
   "display_name": "Python 3",
   "language": "python",
   "name": "python3"
  },
  "language_info": {
   "codemirror_mode": {
    "name": "ipython",
    "version": 3
   },
   "file_extension": ".py",
   "mimetype": "text/x-python",
   "name": "python",
   "nbconvert_exporter": "python",
   "pygments_lexer": "ipython3",
   "version": "3.8.8"
  },
  "varInspector": {
   "cols": {
    "lenName": 16,
    "lenType": 16,
    "lenVar": 40
   },
   "kernels_config": {
    "python": {
     "delete_cmd_postfix": "",
     "delete_cmd_prefix": "del ",
     "library": "var_list.py",
     "varRefreshCmd": "print(var_dic_list())"
    },
    "r": {
     "delete_cmd_postfix": ") ",
     "delete_cmd_prefix": "rm(",
     "library": "var_list.r",
     "varRefreshCmd": "cat(var_dic_list()) "
    }
   },
   "types_to_exclude": [
    "module",
    "function",
    "builtin_function_or_method",
    "instance",
    "_Feature"
   ],
   "window_display": false
  }
 },
 "nbformat": 4,
 "nbformat_minor": 5
}
